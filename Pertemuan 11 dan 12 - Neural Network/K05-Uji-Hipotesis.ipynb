{
 "cells": [
  {
   "cell_type": "markdown",
   "metadata": {},
   "source": [
    "### Uji Hipotesis - Model Prediksi BTC-USD "
   ]
  },
  {
   "cell_type": "code",
   "execution_count": 1,
   "metadata": {},
   "outputs": [],
   "source": [
    "# lib statistic \n",
    "import scipy.stats as sc\n",
    "\n",
    "# lib manipulation dataset\n",
    "import pandas as pd\n",
    "import numpy as np\n",
    "\n",
    "# lib data visualization\n",
    "import seaborn as sns\n",
    "import matplotlib.pyplot as plt\n",
    "\n",
    "# lib min-max scaler\n",
    "from sklearn.preprocessing import MinMaxScaler"
   ]
  },
  {
   "cell_type": "markdown",
   "metadata": {},
   "source": [
    "### Load Dataset"
   ]
  },
  {
   "cell_type": "code",
   "execution_count": 2,
   "metadata": {},
   "outputs": [
    {
     "name": "stdout",
     "output_type": "stream",
     "text": [
      "   LSTM-R  LSTM-MAE  LSTM-RMSE  LSTM-MAPE  GRU-R  GRU-MAE  GRU-RMSE  GRU-MAPE\n",
      "0   0.996     0.013      0.019      0.031  0.997    0.016     0.025     0.033\n",
      "1   0.996     0.015      0.020      0.036  0.998    0.014     0.021     0.028\n",
      "2   0.997     0.012      0.020      0.026  0.998    0.014     0.022     0.028\n",
      "3   0.997     0.013      0.021      0.026  0.997    0.009     0.014     0.022\n",
      "4   0.996     0.015      0.020      0.037  0.998    0.012     0.018     0.025\n"
     ]
    }
   ],
   "source": [
    "# load dataset\n",
    "dataset = pd.read_excel(\"dataset/hasil_penelitian.xlsx\", sheet_name=\"hasil evaluasi\")\n",
    "print(np.round(dataset[:5],3))"
   ]
  },
  {
   "cell_type": "code",
   "execution_count": 3,
   "metadata": {},
   "outputs": [
    {
     "data": {
      "image/png": "[encoded data removed]",
      "text/plain": [
       "<Figure size 800x400 with 1 Axes>"
      ]
     },
     "metadata": {},
     "output_type": "display_data"
    }
   ],
   "source": [
    "# define boxplot\n",
    "fig, ax = plt.subplots(figsize=(8,4))\n",
    "ax.boxplot(dataset[[\"LSTM-MAPE\", \"GRU-MAPE\"]], labels=['LSTM', 'GRU'], patch_artist=True, widths=(0.5, 0.5))\n",
    "\n",
    "# set labels\n",
    "ax.set_title('Perbandingan MAPE Model LSTM dan GRU')\n",
    "ax.set_xlabel('')\n",
    "ax.set_ylabel('')\n",
    "ax.grid(True)\n",
    "\n",
    "# show boxplot\n",
    "plt.show()"
   ]
  },
  {
   "cell_type": "markdown",
   "metadata": {},
   "source": [
    "### Hypothesis Test of Non-parametric"
   ]
  },
  {
   "cell_type": "markdown",
   "metadata": {},
   "source": [
    "- Normalize Min-Max Scaler"
   ]
  },
  {
   "cell_type": "code",
   "execution_count": 4,
   "metadata": {},
   "outputs": [],
   "source": [
    "# min-max scaler\n",
    "scaler = MinMaxScaler(feature_range=(0,1))\n",
    "\n",
    "# process min-max \n",
    "LSTM_R = scaler.fit_transform(np.array(dataset[\"LSTM-R\"]).reshape(-1,1))\n",
    "LSTM_MAPE = scaler.fit_transform(np.array(dataset[\"LSTM-MAPE\"]).reshape(-1,1))\n",
    "\n",
    "# process min-max\n",
    "GRU_R = scaler.fit_transform(np.array(dataset[\"GRU-R\"]).reshape(-1,1))\n",
    "GRU_MAPE = scaler.fit_transform(np.array(dataset[\"GRU-MAPE\"]).reshape(-1,1))"
   ]
  },
  {
   "cell_type": "markdown",
   "metadata": {},
   "source": [
    "- Normality Test with Shapiro-Wilk"
   ]
  },
  {
   "cell_type": "code",
   "execution_count": 5,
   "metadata": {},
   "outputs": [],
   "source": [
    "# Hipotesa Awal\n",
    "# H0 = Nilai R dan MAPE terdistribusi normal\n",
    "# H2 = Nilai R dan MAPE TIDAK terdistribusi normal\n",
    "\n",
    "# Interpretasi hasil:\n",
    "# - p-value > 0.05: Data berdistribusi normal\n",
    "# - p-value <= 0.05: Data tidak berdistribusi normal"
   ]
  },
  {
   "cell_type": "code",
   "execution_count": 6,
   "metadata": {},
   "outputs": [
    {
     "name": "stdout",
     "output_type": "stream",
     "text": [
      "Data tidak terdistribusi normal\n",
      "GRU-MAPE  : 0.19\n",
      "LSTM-MAPE : 0.31\n",
      "\n",
      "Data terdistribusi normal\n",
      "GRU-R  : 0.0\n",
      "LSTM-R : 0.0\n"
     ]
    }
   ],
   "source": [
    "print(\"Data tidak terdistribusi normal\")\n",
    "print(\"GRU-MAPE  :\",np.round(sc.shapiro(GRU_MAPE).pvalue,2))\n",
    "print(\"LSTM-MAPE :\",np.round(sc.shapiro(LSTM_MAPE).pvalue,2))\n",
    "\n",
    "print(\"\\nData terdistribusi normal\")\n",
    "print(\"GRU-R  :\",np.round(sc.shapiro(GRU_R).pvalue,4))\n",
    "print(\"LSTM-R :\",np.round(sc.shapiro(LSTM_R).pvalue,4))"
   ]
  },
  {
   "cell_type": "markdown",
   "metadata": {},
   "source": [
    "- Mann-Whitney Test"
   ]
  },
  {
   "cell_type": "code",
   "execution_count": 7,
   "metadata": {},
   "outputs": [],
   "source": [
    "# Hipotesa Awal\n",
    "# H0 = Maetode GRU lebih baik dari Metode LSTM\n",
    "# H1 = Maetode GRU TIDAK lebih baik dari Metode LSTM\n",
    "\n",
    "# Interpretasi hasil:\n",
    "# p-value < 0.05 = Terima H0\n",
    "# p-value > 0.05 = Terima H1"
   ]
  },
  {
   "cell_type": "code",
   "execution_count": 8,
   "metadata": {},
   "outputs": [
    {
     "name": "stdout",
     "output_type": "stream",
     "text": [
      "Karena p-value: [0.1857] maka Terima H1\n"
     ]
    }
   ],
   "source": [
    "# Mann-Whitney Test\n",
    "MAPE = np.round(sc.mannwhitneyu(LSTM_MAPE, GRU_MAPE).pvalue,4)\n",
    "\n",
    "# Intrepetasi hasil\n",
    "if MAPE < 0.05:\n",
    "  print(\"Karena p-value:\",MAPE,\"maka Terima H0\")\n",
    "else :\n",
    "  print(\"Karena p-value:\",MAPE,\"maka Terima H1\")"
   ]
  },
  {
   "cell_type": "markdown",
   "metadata": {},
   "source": [
    "- Wilcoxon Rank Test"
   ]
  },
  {
   "cell_type": "code",
   "execution_count": 9,
   "metadata": {},
   "outputs": [
    {
     "name": "stdout",
     "output_type": "stream",
     "text": [
      "Karena p-value: [0.3285] maka Terima H1\n"
     ]
    }
   ],
   "source": [
    "# Wilcoxon Rank Test\n",
    "MAPE = np.round(sc.wilcoxon(LSTM_MAPE, GRU_MAPE).pvalue,4)\n",
    "\n",
    "# Intrepetasi hasil\n",
    "if MAPE < 0.05:\n",
    "  print(\"Karena p-value:\",MAPE,\"maka Terima H0\")\n",
    "else :\n",
    "  print(\"Karena p-value:\",MAPE,\"maka Terima H1\")"
   ]
  },
  {
   "cell_type": "markdown",
   "metadata": {},
   "source": [
    "- Kruskal-Wallis Test"
   ]
  },
  {
   "cell_type": "code",
   "execution_count": 10,
   "metadata": {},
   "outputs": [
    {
     "name": "stdout",
     "output_type": "stream",
     "text": [
      "Karena p-value: [0.1833] maka Terima H1\n"
     ]
    }
   ],
   "source": [
    "# Kruskal-Wallis Test\n",
    "MAPE = np.round(sc.kruskal(LSTM_MAPE, GRU_MAPE).pvalue,4)\n",
    "\n",
    "# Intrepetasi hasil\n",
    "if MAPE < 0.05:\n",
    "  print(\"Karena p-value:\",MAPE,\"maka Terima H0\")\n",
    "else :\n",
    "  print(\"Karena p-value:\",MAPE,\"maka Terima H1\")"
   ]
  },
  {
   "cell_type": "code",
   "execution_count": null,
   "metadata": {},
   "outputs": [],
   "source": []
  }
 ],
 "metadata": {
  "kernelspec": {
   "display_name": "base",
   "language": "python",
   "name": "python3"
  },
  "language_info": {
   "codemirror_mode": {
    "name": "ipython",
    "version": 3
   },
   "file_extension": ".py",
   "mimetype": "text/x-python",
   "name": "python",
   "nbconvert_exporter": "python",
   "pygments_lexer": "ipython3",
   "version": "3.11.7"
  }
 },
 "nbformat": 4,
 "nbformat_minor": 2
}
