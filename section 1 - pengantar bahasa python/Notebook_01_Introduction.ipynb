{
 "cells": [
  {
   "cell_type": "markdown",
   "metadata": {},
   "source": [
    "## Pengenalan Dasar-Dasar Pemrograman Dengan Bahasa Python\n",
    "1. Menampilkan hello world\n",
    "2. Input dan Output\n",
    "3. Runtunan, Percabangan, Perulangan\n",
    "4. Array\n",
    "5. Membuat Fungsi \n",
    "6. Menggunakan Fungsi Build-in"
   ]
  },
  {
   "cell_type": "code",
   "execution_count": 1,
   "metadata": {},
   "outputs": [
    {
     "name": "stdout",
     "output_type": "stream",
     "text": [
      "Hello World\n"
     ]
    }
   ],
   "source": [
    "# Menampilkan hello world\n",
    "print(\"Hello World\") # menggunakan tanda (\"\") karena bertipe strin"
   ]
  },
  {
   "cell_type": "code",
   "execution_count": 2,
   "metadata": {},
   "outputs": [
    {
     "name": "stdout",
     "output_type": "stream",
     "text": [
      "100\n"
     ]
    }
   ],
   "source": [
    "print(100) # tanpa tanda (\"\") karena bertipe numerikik"
   ]
  },
  {
   "cell_type": "code",
   "execution_count": 3,
   "metadata": {},
   "outputs": [],
   "source": [
    "# Input dan output secara default\n",
    "nama = \"Aryajaya Alamsyah, S.Kom\""
   ]
  },
  {
   "cell_type": "code",
   "execution_count": 4,
   "metadata": {},
   "outputs": [
    {
     "name": "stdout",
     "output_type": "stream",
     "text": [
      "Aryajaya Alamsyah, S.Kom\n"
     ]
    }
   ],
   "source": [
    "print(nama)"
   ]
  },
  {
   "cell_type": "code",
   "execution_count": 5,
   "metadata": {},
   "outputs": [
    {
     "name": "stdout",
     "output_type": "stream",
     "text": [
      "Selamat Pagi, Aryajaya Alamsyah, S.Kom., M.Kom., MTA.\n"
     ]
    }
   ],
   "source": [
    "# input dari keyboard\n",
    "nama = input(\"Masukan Nama : \")\n",
    "print(\"Selamat Pagi, \"+nama)"
   ]
  },
  {
   "cell_type": "code",
   "execution_count": 6,
   "metadata": {},
   "outputs": [
    {
     "name": "stdout",
     "output_type": "stream",
     "text": [
      "Volume balok : 250\n"
     ]
    }
   ],
   "source": [
    "# Runtunan 1. secara default\n",
    "\n",
    "# input\n",
    "panjang = 5\n",
    "lebar = 5\n",
    "tinggi = 10\n",
    "\n",
    "# proses\n",
    "volume = panjang * lebar * tinggi\n",
    "\n",
    "# output\n",
    "print(\"Volume balok : \"+str(volume))"
   ]
  },
  {
   "cell_type": "code",
   "execution_count": 7,
   "metadata": {},
   "outputs": [
    {
     "name": "stdout",
     "output_type": "stream",
     "text": [
      "250.0\n"
     ]
    }
   ],
   "source": [
    "# Runtunan 1. input dari keyboard\n",
    "\n",
    "# input\n",
    "panjang = input(\"Masukan panjang : \")\n",
    "lebar = input(\"Masukan lebar : \")\n",
    "tinggi = input(\"Masukan tinggi : \")\n",
    "\n",
    "# proses. (input diconvert menjadi float)\n",
    "volume = float(panjang) * float(lebar) * float(tinggi)\n",
    "\n",
    "# output\n",
    "print(volume)"
   ]
  },
  {
   "cell_type": "code",
   "execution_count": 8,
   "metadata": {},
   "outputs": [
    {
     "name": "stdout",
     "output_type": "stream",
     "text": [
      "Bilangan Ganjil\n"
     ]
    }
   ],
   "source": [
    "# percabangan. menentukan bilangan ganjil atau genap\n",
    "# if di python-3.6x tidak menggunakan tanda kurung \"()\" dan kurawal \"{}\"\n",
    "# Bahasa pemrograman lain\n",
    "# if(kondisi){\n",
    "#   // statment\n",
    "# } \n",
    "\n",
    "# input\n",
    "bilangan = 11\n",
    "\n",
    "# proses\n",
    "if bilangan % 2 == 0:\n",
    "    print(\"Bilangan Genap\") # output\n",
    "else:\n",
    "    print(\"Bilangan Ganjil\") # output"
   ]
  },
  {
   "cell_type": "code",
   "execution_count": 9,
   "metadata": {},
   "outputs": [
    {
     "name": "stdout",
     "output_type": "stream",
     "text": [
      "B\n"
     ]
    }
   ],
   "source": [
    "# percabangan. menentukan huruf mutu\n",
    "\n",
    "# input\n",
    "nilai = 70\n",
    "\n",
    "# proses \n",
    "if nilai >= 80:\n",
    "    print(\"A\") # input\n",
    "elif nilai >= 70:\n",
    "    print(\"B\")\n",
    "elif nilai >= 60:\n",
    "    print(\"C\")\n",
    "elif nilai >= 70:\n",
    "    print(\"D\")\n",
    "else:\n",
    "    print(\"E\")"
   ]
  },
  {
   "cell_type": "code",
   "execution_count": 10,
   "metadata": {},
   "outputs": [
    {
     "name": "stdout",
     "output_type": "stream",
     "text": [
      "Faktorial dari 5 adalah 120\n"
     ]
    }
   ],
   "source": [
    "# perulangan. Menghitung faktorial\n",
    "\n",
    "# input\n",
    "bilangan = 5\n",
    "faktorial = 1\n",
    "\n",
    "# proses\n",
    "for i in range(1, bilangan + 1):\n",
    "    faktorial = faktorial * i\n",
    "    \n",
    "# output\n",
    "print(\"Faktorial dari\", bilangan, \"adalah\", faktorial)"
   ]
  },
  {
   "cell_type": "code",
   "execution_count": 11,
   "metadata": {},
   "outputs": [
    {
     "name": "stdout",
     "output_type": "stream",
     "text": [
      "Mata kuliah sebanyak 5 \n",
      "\n",
      "Data Mining\n",
      "Data Spatial\n",
      "Machine Learning\n",
      "Deep Learning\n",
      "Statistik Komputasi\n"
     ]
    }
   ],
   "source": [
    "# Array. Menampilkan element yang ada didalam list\n",
    "\n",
    "# input array\n",
    "mk = [\"Data Mining\", \"Data Spatial\", \"Machine Learning\", \"Deep Learning\", \"Statistik Komputasi\"]\n",
    "\n",
    "# proses\n",
    "print(\"Mata kuliah sebanyak\",format(len(mk)),\"\\n\")\n",
    "for i in mk:\n",
    "    print(i)"
   ]
  },
  {
   "cell_type": "code",
   "execution_count": 12,
   "metadata": {},
   "outputs": [
    {
     "name": "stdout",
     "output_type": "stream",
     "text": [
      "6 0  \n",
      "6 8  \n"
     ]
    }
   ],
   "source": [
    "# Array. Menjumlahkan 2 buah matrik\n",
    "\n",
    "# input\n",
    "mat1 = [\n",
    "    [5, 0],\n",
    "    [2, 6],\n",
    "]\n",
    "\n",
    "mat2 = [\n",
    "    [1, 0],\n",
    "    [4, 2],\n",
    "]\n",
    "\n",
    "# proses kaidah ddp\n",
    "# menggunakan nested loop\n",
    "for x in range(0, len(mat1)):\n",
    "    for y in range(0, len(mat1[0])):\n",
    "        print (mat1[x][y] + mat2[x][y], end=\" \") # output\n",
    "    print(\" \")"
   ]
  },
  {
   "cell_type": "code",
   "execution_count": 13,
   "metadata": {},
   "outputs": [
    {
     "name": "stdout",
     "output_type": "stream",
     "text": [
      "[[6 0]\n",
      " [6 8]]\n"
     ]
    }
   ],
   "source": [
    "# Array. Menjumlahkan 2 buah matrik\n",
    "# Deklarasi pustaka numpy\n",
    "import numpy as np;\n",
    "\n",
    "# input\n",
    "mat1 = [\n",
    "    [5, 0],\n",
    "    [2, 6],\n",
    "]\n",
    "mat1 = np.array(mat1)\n",
    "\n",
    "mat2 = [\n",
    "    [1, 0],\n",
    "    [4, 2],\n",
    "]\n",
    "mat2 = np.array(mat2)\n",
    "\n",
    "# proses kaidah python\n",
    "# menggunakan runtunan\n",
    "mat3 = mat1 + mat2 # proses\n",
    "\n",
    "print(mat3) # output"
   ]
  },
  {
   "cell_type": "code",
   "execution_count": 14,
   "metadata": {},
   "outputs": [],
   "source": [
    "# Membuat Fungsi. menjumlahkan array dengan fungsi (def)\n",
    "\n",
    "# fungsi lbr_matriks dan pjg_matriks untuk menentukan ukuran dimensi array\n",
    "def lbr_matriks(matriks):\n",
    "    return len(matriks)\n",
    "\n",
    "def pjg_matriks(matriks):\n",
    "    return len(matriks[0])\n",
    "\n",
    "# fungsi untuk menjumlahkan arrray\n",
    "def jumlahkan_matriks(mat_a, mat_b):\n",
    "    temp_row = []\n",
    "    temp_mat = [] \n",
    "    for i in range(0, lbr_matriks(mat_a)):\n",
    "        for j in range(0, pjg_matriks(mat_a)):\n",
    "            temp_row.append(mat_a[i][j] + mat_b[i][j])\n",
    "        temp_mat.append(temp_row)\n",
    "        temp_row = []\n",
    "    return temp_mat\n",
    "\n",
    "# fungsi untuk menampilkan isi array\n",
    "def cetak_matriks(matriks):\n",
    "    for row in matriks:\n",
    "        print (row)"
   ]
  },
  {
   "cell_type": "code",
   "execution_count": 15,
   "metadata": {},
   "outputs": [
    {
     "name": "stdout",
     "output_type": "stream",
     "text": [
      "matriks_a : \n",
      "[1, 2, 3, 4]\n",
      "[5, 6, 7, 8]\n",
      "\n",
      "matriks_b : \n",
      "[1, 1, 1, 1]\n",
      "[1, 1, 1, 1]\n",
      "\n",
      "hasil penjumlahan :\n",
      "[2, 3, 4, 5]\n",
      "[6, 7, 8, 9]\n"
     ]
    }
   ],
   "source": [
    "# input array\n",
    "matriks_a = [[1, 2, 3, 4], [5, 6, 7, 8]]\n",
    "matriks_b = [[1, 1, 1, 1], [1, 1, 1, 1]]\n",
    "\n",
    "# proses\n",
    "hasil = jumlahkan_matriks(matriks_a, matriks_b)\n",
    "\n",
    "# output\n",
    "print (\"matriks_a : \")\n",
    "cetak_matriks(matriks_a)\n",
    "\n",
    "print (\"\\nmatriks_b : \")\n",
    "cetak_matriks(matriks_b)\n",
    "\n",
    "print (\"\\nhasil penjumlahan :\")\n",
    "cetak_matriks(hasil)"
   ]
  },
  {
   "cell_type": "code",
   "execution_count": 16,
   "metadata": {},
   "outputs": [
    {
     "name": "stdout",
     "output_type": "stream",
     "text": [
      "[[2 3 4 5]\n",
      " [6 7 8 9]]\n"
     ]
    }
   ],
   "source": [
    "# load lib numpy\n",
    "import numpy as np\n",
    "\n",
    "# input menggunakan numpy\n",
    "# np.array()\n",
    "matriks_a = np.array([[1, 2, 3, 4], [5, 6, 7, 8]])\n",
    "matriks_b = np.array([[1, 1, 1, 1], [1, 1, 1, 1]])\n",
    "\n",
    "# proses\n",
    "matriks_c = matriks_a + matriks_b\n",
    "\n",
    "#output\n",
    "print(matriks_c)"
   ]
  },
  {
   "cell_type": "code",
   "execution_count": 17,
   "metadata": {},
   "outputs": [
    {
     "name": "stdout",
     "output_type": "stream",
     "text": [
      "Hasil jumlah semua elemen array adalah 21\n"
     ]
    }
   ],
   "source": [
    "# load lib numpy\n",
    "import numpy as np\n",
    "\n",
    "# definisi nilai array dengan numpy\n",
    "array = np.array([ [1, 2], [3, 4], [5, 6] ])\n",
    "\n",
    "# menjumlahkan element array\n",
    "total = np.sum(array)\n",
    "\n",
    "# menampilkan hasil\n",
    "print(\"Hasil jumlah semua elemen array adalah\",total)"
   ]
  },
  {
   "cell_type": "code",
   "execution_count": null,
   "metadata": {},
   "outputs": [],
   "source": []
  }
 ],
 "metadata": {
  "interpreter": {
   "hash": "af8c20166cad848477e998d1598fb9b9ed106df038381b17b4e27391b8c3c5c3"
  },
  "kernelspec": {
   "display_name": "Python 3",
   "language": "python",
   "name": "python3"
  },
  "language_info": {
   "codemirror_mode": {
    "name": "ipython",
    "version": 3
   },
   "file_extension": ".py",
   "mimetype": "text/x-python",
   "name": "python",
   "nbconvert_exporter": "python",
   "pygments_lexer": "ipython3",
   "version": "3.11.8"
  }
 },
 "nbformat": 4,
 "nbformat_minor": 4
}
