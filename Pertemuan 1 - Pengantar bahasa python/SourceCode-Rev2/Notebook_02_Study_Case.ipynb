{
 "cells": [
  {
   "cell_type": "markdown",
   "metadata": {},
   "source": [
    "## Review Studi Kasus Dasar-Dasar Pemrograman"
   ]
  },
  {
   "cell_type": "code",
   "execution_count": 1,
   "metadata": {},
   "outputs": [],
   "source": [
    "# Load Library\n",
    "import numpy as np #    => manipulasi data array\n",
    "import pandas as pd #   => manipulasi dataframe\n",
    "import matplotlib.pyplot as plt # => visualisasi data"
   ]
  },
  {
   "cell_type": "markdown",
   "metadata": {},
   "source": [
    "- Input Program"
   ]
  },
  {
   "cell_type": "code",
   "execution_count": 2,
   "metadata": {},
   "outputs": [
    {
     "name": "stdout",
     "output_type": "stream",
     "text": [
      "<class 'pandas.core.frame.DataFrame'>\n",
      "RangeIndex: 500 entries, 0 to 499\n",
      "Data columns (total 4 columns):\n",
      " #   Column    Non-Null Count  Dtype\n",
      "---  ------    --------------  -----\n",
      " 0   nim       500 non-null    int64\n",
      " 1   formatif  500 non-null    int64\n",
      " 2   uts       500 non-null    int64\n",
      " 3   uas       500 non-null    int64\n",
      "dtypes: int64(4)\n",
      "memory usage: 15.8 KB\n",
      "None\n"
     ]
    }
   ],
   "source": [
    "# Load dataset sebagai inputan sistem\n",
    "dataset = pd.read_csv(\"../../dataset/dummy_hitung_nilai_input.csv\")\n",
    "\n",
    "# Karakteristik dataset\n",
    "print(dataset.info())"
   ]
  },
  {
   "cell_type": "code",
   "execution_count": 3,
   "metadata": {},
   "outputs": [
    {
     "name": "stdout",
     "output_type": "stream",
     "text": [
      "            nim  formatif  uts  uas\n",
      "0    1114091001        76   60   82\n",
      "1    1114091002       100   85   52\n",
      "2    1114091003        74   93   98\n",
      "3    1114091004        70   82   93\n",
      "4    1114091005        99   71   94\n",
      "..          ...       ...  ...  ...\n",
      "495  1114091496       100  100   85\n",
      "496  1114091497        72   89   69\n",
      "497  1114091498        84   83   89\n",
      "498  1114091499        72   58   70\n",
      "499  1114091500        75  100   92\n",
      "\n",
      "[500 rows x 4 columns]\n"
     ]
    }
   ],
   "source": [
    "# Menampilkan dataset\n",
    "print(dataset)"
   ]
  },
  {
   "cell_type": "markdown",
   "metadata": {},
   "source": [
    "- Proses Program"
   ]
  },
  {
   "cell_type": "code",
   "execution_count": 4,
   "metadata": {},
   "outputs": [
    {
     "name": "stdout",
     "output_type": "stream",
     "text": [
      "            nim  formatif  uts  uas  nilai_akhir\n",
      "0    1114091001        76   60   82         72.0\n",
      "1    1114091002       100   85   52         74.8\n",
      "2    1114091003        74   93   98         91.2\n",
      "3    1114091004        70   82   93         84.0\n",
      "4    1114091005        99   71   94         85.8\n",
      "..          ...       ...  ...  ...          ...\n",
      "495  1114091496       100  100   85         94.0\n",
      "496  1114091497        72   89   69         77.6\n",
      "497  1114091498        84   83   89         85.6\n",
      "498  1114091499        72   58   70         65.6\n",
      "499  1114091500        75  100   92         91.8\n",
      "\n",
      "[500 rows x 5 columns]\n"
     ]
    }
   ],
   "source": [
    "# proses menghitung nilai akhir\n",
    "nilai_akhir = dataset[\"formatif\"]*0.2 + dataset[\"uts\"]*0.4 + dataset[\"uas\"] * 0.4\n",
    "\n",
    "# menambahkan kolom nilai akhir ke dataset\n",
    "dataset[\"nilai_akhir\"]= nilai_akhir\n",
    "\n",
    "# Menampilkan dataset\n",
    "print(dataset)"
   ]
  },
  {
   "cell_type": "code",
   "execution_count": 5,
   "metadata": {},
   "outputs": [],
   "source": [
    "# Membuat fungsi untuk menentukan nilai huruf\n",
    "def nilai_huruf(nilai_akhir):\n",
    "  huruf = []\n",
    "  for x in nilai_akhir:\n",
    "    if x >= 80:\n",
    "      huruf.append(\"A\")\n",
    "    elif x >= 70:\n",
    "      huruf.append(\"B\")\n",
    "    elif x >= 60:\n",
    "      huruf.append(\"C\")\n",
    "    elif x >= 50:\n",
    "      huruf.append(\"D\")\n",
    "    else:\n",
    "      huruf.append(\"E\")\n",
    "  return huruf"
   ]
  },
  {
   "cell_type": "code",
   "execution_count": 6,
   "metadata": {},
   "outputs": [],
   "source": [
    "# proses menentukan nilai huruf\n",
    "nilai_huruf = nilai_huruf(np.array(dataset[\"nilai_akhir\"]))\n",
    "\n",
    "# menambahkan kolom nilai huruf ke dataset\n",
    "dataset[\"nilai_huruf\"] = nilai_huruf"
   ]
  },
  {
   "cell_type": "markdown",
   "metadata": {},
   "source": [
    "- Output Program"
   ]
  },
  {
   "cell_type": "code",
   "execution_count": 7,
   "metadata": {},
   "outputs": [
    {
     "name": "stdout",
     "output_type": "stream",
     "text": [
      "            nim  formatif  uts  uas  nilai_akhir nilai_huruf\n",
      "0    1114091001        76   60   82         72.0           B\n",
      "1    1114091002       100   85   52         74.8           B\n",
      "2    1114091003        74   93   98         91.2           A\n",
      "3    1114091004        70   82   93         84.0           A\n",
      "4    1114091005        99   71   94         85.8           A\n",
      "..          ...       ...  ...  ...          ...         ...\n",
      "495  1114091496       100  100   85         94.0           A\n",
      "496  1114091497        72   89   69         77.6           B\n",
      "497  1114091498        84   83   89         85.6           A\n",
      "498  1114091499        72   58   70         65.6           C\n",
      "499  1114091500        75  100   92         91.8           A\n",
      "\n",
      "[500 rows x 6 columns]\n"
     ]
    }
   ],
   "source": [
    "# OUTPUT Pertama\n",
    "# Dataset memiliki kolom nilai akhir dan nilai huruf\n",
    "print(dataset)"
   ]
  },
  {
   "cell_type": "code",
   "execution_count": 8,
   "metadata": {},
   "outputs": [],
   "source": [
    "# write to csv\n",
    "dataset.to_csv(\"../../dataset/dummy_hitung_nilai_output.csv\", index=False)"
   ]
  },
  {
   "cell_type": "code",
   "execution_count": 9,
   "metadata": {},
   "outputs": [
    {
     "data": {
      "image/png": "[encoded data removed]",
      "text/plain": [
       "<Figure size 800x400 with 1 Axes>"
      ]
     },
     "metadata": {},
     "output_type": "display_data"
    }
   ],
   "source": [
    "# Membuat frame\n",
    "fig, ax = plt.subplots(figsize=(8, 4))\n",
    "\n",
    "# Membuat barplot nilai huruf\n",
    "values = dataset['nilai_huruf'].value_counts().sort_index()\n",
    "values.plot(kind='bar', grid=True)\n",
    "\n",
    "# membuat label-label\n",
    "ax.set_title(\"\", fontsize=12)\n",
    "ax.set_xlabel(\"Nilai Huruf\", fontsize=12)\n",
    "ax.set_ylabel(\"Jumlah\", fontsize=12)\n",
    "\n",
    "# Menampilkan hasilnya\n",
    "plt.tight_layout()\n",
    "plt.xticks(rotation=0)\n",
    "plt.yticks(rotation=0)\n",
    "plt.grid(True)\n",
    "plt.show()"
   ]
  },
  {
   "cell_type": "code",
   "execution_count": null,
   "metadata": {},
   "outputs": [],
   "source": []
  }
 ],
 "metadata": {
  "interpreter": {
   "hash": "af8c20166cad848477e998d1598fb9b9ed106df038381b17b4e27391b8c3c5c3"
  },
  "kernelspec": {
   "display_name": "Python 3.8.5 64-bit ('base': conda)",
   "name": "python3"
  },
  "language_info": {
   "codemirror_mode": {
    "name": "ipython",
    "version": 3
   },
   "file_extension": ".py",
   "mimetype": "text/x-python",
   "name": "python",
   "nbconvert_exporter": "python",
   "pygments_lexer": "ipython3",
   "version": "3.11.9"
  }
 },
 "nbformat": 4,
 "nbformat_minor": 4
}
