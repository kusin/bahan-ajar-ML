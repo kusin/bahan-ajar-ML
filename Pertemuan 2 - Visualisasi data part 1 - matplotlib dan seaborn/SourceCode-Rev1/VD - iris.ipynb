{
 "cells": [
  {
   "cell_type": "markdown",
   "metadata": {},
   "source": [
    "## Visualisasi Data - Iris Dataset"
   ]
  },
  {
   "cell_type": "code",
   "execution_count": null,
   "metadata": {},
   "outputs": [],
   "source": [
    "# lib manipulasi data\n",
    "import pandas as pd\n",
    "import numpy as np\n",
    "\n",
    "# lib visualisasi data\n",
    "import seaborn as sns\n",
    "import matplotlib.pyplot as plt\n",
    "\n",
    "# lib praproses data\n",
    "from sklearn.preprocessing import MinMaxScaler"
   ]
  },
  {
   "cell_type": "code",
   "execution_count": null,
   "metadata": {},
   "outputs": [],
   "source": [
    "# load dataset\n",
    "dataset = pd.read_csv(\"../../dataset/dataset_iris.csv\")\n",
    "\n",
    "# lihat metadataset\n",
    "print(dataset.info())"
   ]
  },
  {
   "cell_type": "code",
   "execution_count": null,
   "metadata": {},
   "outputs": [],
   "source": [
    "# Set features and Labels\n",
    "x = dataset[[\"sepal_length\",\"sepal_width\",\"petal_length\",\"petal_width\"]].values\n",
    "y = dataset[\"species\"].values"
   ]
  },
  {
   "cell_type": "code",
   "execution_count": null,
   "metadata": {},
   "outputs": [],
   "source": [
    "# proses normalisasi data\n",
    "scaler = MinMaxScaler(feature_range=(0, 1))\n",
    "scaled = scaler.fit_transform(x)"
   ]
  },
  {
   "cell_type": "code",
   "execution_count": null,
   "metadata": {},
   "outputs": [],
   "source": [
    "# hasil normalisasi data\n",
    "dataset = pd.concat([\n",
    "  pd.DataFrame(scaled, columns=[\"sepal_length\",\"sepal_width\",\"petal_length\",\"petal_width\"]),\n",
    "  pd.DataFrame(y, columns=[\"species\"]),\n",
    "], axis=1)"
   ]
  },
  {
   "cell_type": "code",
   "execution_count": null,
   "metadata": {},
   "outputs": [],
   "source": [
    "# cek hasil normalisasi data\n",
    "print(dataset)"
   ]
  },
  {
   "cell_type": "markdown",
   "metadata": {},
   "source": [
    "1. Barplot"
   ]
  },
  {
   "cell_type": "code",
   "execution_count": null,
   "metadata": {},
   "outputs": [],
   "source": [
    "# create barplot\n",
    "fig, ax = plt.subplots(figsize=(8,4))\n",
    "sns.countplot(dataset, x=\"species\", hue=\"species\")\n",
    " \n",
    "# set labels\n",
    "ax.set_title(\"\", fontsize=14)\n",
    "ax.set_xlabel(\"\", fontsize=12)\n",
    "ax.set_ylabel(\"\", fontsize=12)\n",
    "ax.grid(True)\n",
    " \n",
    "# show \n",
    "#plt.tight_layout()\n",
    "plt.show()\n"
   ]
  },
  {
   "cell_type": "code",
   "execution_count": null,
   "metadata": {},
   "outputs": [],
   "source": [
    "# create heatmap corr\n",
    "fig, ax = plt.subplots(figsize=(8,4))\n",
    "sns.heatmap(\n",
    "  dataset.corr(numeric_only=True), vmin=-1, vmax=1,\n",
    "  cmap=\"viridis\", annot=True, fmt=\".3f\", linewidths=1)\n",
    " \n",
    "# set labels\n",
    "ax.set_title(\"\", fontsize=14)\n",
    "ax.set_xlabel(\"\", fontsize=12)\n",
    "ax.set_ylabel(\"\", fontsize=12)\n",
    " \n",
    "# show plot\n",
    "plt.tight_layout()\n",
    "plt.show()\n"
   ]
  },
  {
   "cell_type": "code",
   "execution_count": null,
   "metadata": {},
   "outputs": [],
   "source": [
    "# function scatter plot\n",
    "def scatter(data, x, y):\n",
    "  \n",
    "  # create scatter plots\n",
    "  fig, ax = plt.subplots(figsize = (8,4))\n",
    "  sns.scatterplot(data=data, x=x, y=y, hue=\"species\")\n",
    " \n",
    "  # set labels\n",
    "  ax.set_title(\"\", fontsize=14)\n",
    "  ax.set_xlabel(\"\", fontsize=12)\n",
    "  ax.set_ylabel(\"\", fontsize=12)\n",
    "  ax.legend(loc='upper left')\n",
    "  ax.grid(True)\n",
    "  plt.tight_layout()\n",
    " \n",
    "  # show plots\n",
    "  plt.tight_layout()\n",
    "  plt.show()\n"
   ]
  },
  {
   "cell_type": "code",
   "execution_count": null,
   "metadata": {},
   "outputs": [],
   "source": [
    "# call function scatter\n",
    "scatter(dataset, \"petal_length\", \"sepal_length\")"
   ]
  },
  {
   "cell_type": "code",
   "execution_count": null,
   "metadata": {},
   "outputs": [],
   "source": [
    "# call function scatter\n",
    "scatter(dataset, \"petal_length\", \"petal_width\")"
   ]
  },
  {
   "cell_type": "code",
   "execution_count": null,
   "metadata": {},
   "outputs": [],
   "source": [
    "# create kdeplot\n",
    "fig, ax = plt.subplots(nrows=1, ncols=2, figsize=(12,4))\n",
    "sns.kdeplot(data=dataset, x=\"sepal_width\", hue=\"species\", fill=True, ax=ax[0])\n",
    "ax[0].set_title(\"\", fontsize=14)\n",
    "ax[0].set_xlabel(\"\", fontsize=12)\n",
    "ax[0].set_ylabel(\"\", fontsize=12)\n",
    "ax[0].grid(True)\n",
    " \n",
    "# create kdeplot\n",
    "sns.kdeplot(data=dataset, x=\"petal_width\", y=\"sepal_width\", hue=\"species\", fill=True, ax=ax[1])\n",
    "ax[1].set_title(\"\", fontsize=14)\n",
    "ax[1].set_xlabel(\"\", fontsize=12)\n",
    "ax[1].set_ylabel(\"\", fontsize=12)\n",
    "ax[1].grid(True)\n",
    " \n",
    "# show plots\n",
    "plt.tight_layout()\n",
    "plt.show()\n"
   ]
  },
  {
   "cell_type": "code",
   "execution_count": null,
   "metadata": {},
   "outputs": [],
   "source": [
    "# define boxplot\n",
    "fig, ax = plt.subplots(figsize=(8,4))\n",
    "ax.boxplot(\n",
    "  dataset[[\"sepal_length\", \"sepal_width\", \"petal_length\", \"petal_width\"]],\n",
    "  labels=[\"sepal_length\", \"sepal_width\", \"petal_length\", \"petal_width\"],\n",
    "  patch_artist=True, widths=(0.75, 0.75, 0.75, 0.75)\n",
    ")\n",
    " \n",
    "# set labels\n",
    "ax.set_title('')\n",
    "ax.set_xlabel('')\n",
    "ax.set_ylabel('')\n",
    "ax.grid(True)\n",
    " \n",
    "# show boxplot\n",
    "plt.tight_layout()\n",
    "plt.show()\n"
   ]
  }
 ],
 "metadata": {
  "kernelspec": {
   "display_name": "base",
   "language": "python",
   "name": "python3"
  },
  "language_info": {
   "codemirror_mode": {
    "name": "ipython",
    "version": 3
   },
   "file_extension": ".py",
   "mimetype": "text/x-python",
   "name": "python",
   "nbconvert_exporter": "python",
   "pygments_lexer": "ipython3",
   "version": "3.11.9"
  }
 },
 "nbformat": 4,
 "nbformat_minor": 2
}
