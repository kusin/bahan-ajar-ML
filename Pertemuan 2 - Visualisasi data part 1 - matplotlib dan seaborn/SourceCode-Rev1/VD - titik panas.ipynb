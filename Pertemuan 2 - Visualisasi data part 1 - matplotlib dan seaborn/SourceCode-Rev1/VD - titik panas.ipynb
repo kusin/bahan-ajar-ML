{
 "cells": [
  {
   "cell_type": "code",
   "execution_count": 1,
   "metadata": {},
   "outputs": [],
   "source": [
    "# lib manipulasi data\n",
    "import pandas as pd\n",
    "import numpy as np\n",
    "\n",
    "# lib visualisasi data\n",
    "import seaborn as sns\n",
    "import matplotlib.pyplot as plt\n",
    "\n",
    "# lib praproses data\n",
    "from sklearn.preprocessing import MinMaxScaler"
   ]
  },
  {
   "cell_type": "markdown",
   "metadata": {},
   "source": [
    "1. Kebakaran Hutan"
   ]
  },
  {
   "cell_type": "code",
   "execution_count": 2,
   "metadata": {},
   "outputs": [
    {
     "name": "stdout",
     "output_type": "stream",
     "text": [
      "<class 'pandas.core.frame.DataFrame'>\n",
      "RangeIndex: 11 entries, 0 to 10\n",
      "Data columns (total 2 columns):\n",
      " #   Column  Non-Null Count  Dtype\n",
      "---  ------  --------------  -----\n",
      " 0   tahun   11 non-null     int64\n",
      " 1   luas    11 non-null     int64\n",
      "dtypes: int64(2)\n",
      "memory usage: 308.0 bytes\n",
      "None\n"
     ]
    }
   ],
   "source": [
    "# load dataset\n",
    "dataset = pd.read_excel(\"../../dataset/data-luas-karhutla-provinsi.xlsx\", sheet_name=\"hasil\")\n",
    "\n",
    "# lihat metadataset\n",
    "print(dataset.info())"
   ]
  },
  {
   "cell_type": "code",
   "execution_count": 3,
   "metadata": {},
   "outputs": [
    {
     "data": {
      "image/png": "[encoded data removed]",
      "text/plain": [
       "<Figure size 800x400 with 1 Axes>"
      ]
     },
     "metadata": {},
     "output_type": "display_data"
    }
   ],
   "source": [
    "# create frame\n",
    "fig, ax = plt.subplots(figsize = (8,4))\n",
    "\n",
    "# barplot\n",
    "sns.barplot(dataset, x=\"tahun\", y=\"luas\", color=\"tab:blue\")\n",
    "\n",
    "# set label-labels\n",
    "ax.set_title(\"\",fontsize=14)\n",
    "ax.set_xlabel(\"\",fontsize=12)\n",
    "ax.set_ylabel(\"\",fontsize=12)\n",
    "#ax.legend(loc=\"best\")\n",
    "ax.grid(True)\n",
    "\n",
    "# return values\n",
    "plt.show()"
   ]
  },
  {
   "cell_type": "markdown",
   "metadata": {},
   "source": [
    "2. Titik Panas"
   ]
  },
  {
   "cell_type": "code",
   "execution_count": 4,
   "metadata": {},
   "outputs": [],
   "source": [
    "# # load dataset\n",
    "# dataset = pd.read_csv(\"../dataset/fire_archive_M-C61_484133.csv\", parse_dates=[\"acq_date\"])\n",
    "\n",
    "# # lihat metadataset\n",
    "# print(dataset.info())"
   ]
  },
  {
   "cell_type": "code",
   "execution_count": 5,
   "metadata": {},
   "outputs": [],
   "source": [
    "# # Menghitung jumlah titik panas berdasarkan tanggal\n",
    "# dataset = dataset.groupby(['acq_date']).size().reset_index(name='hotspot')\n",
    "# print(dataset)"
   ]
  },
  {
   "cell_type": "code",
   "execution_count": 6,
   "metadata": {},
   "outputs": [],
   "source": [
    "# # create frame\n",
    "# fig, ax = plt.subplots(figsize = (12,4))\n",
    "\n",
    "# # time series plot\n",
    "# ax.plot(\n",
    "#   dataset[\"acq_date\"], dataset[\"hotspot\"], \n",
    "#   color=\"tab:blue\", label=\"Hotspot at 2001 - 2023\", linewidth=2\n",
    "# )\n",
    "\n",
    "# # set label-labels\n",
    "# ax.set_title(\"Visualization of Hotspot Indonesia\",fontsize=14)\n",
    "# ax.set_xlabel(\"\",fontsize=12)\n",
    "# ax.set_ylabel(\"\",fontsize=12)\n",
    "# ax.legend(loc=\"best\")\n",
    "# ax.grid(True)\n",
    "\n",
    "# # return values\n",
    "# plt.show()"
   ]
  },
  {
   "cell_type": "code",
   "execution_count": null,
   "metadata": {},
   "outputs": [],
   "source": []
  }
 ],
 "metadata": {
  "kernelspec": {
   "display_name": "base",
   "language": "python",
   "name": "python3"
  },
  "language_info": {
   "codemirror_mode": {
    "name": "ipython",
    "version": 3
   },
   "file_extension": ".py",
   "mimetype": "text/x-python",
   "name": "python",
   "nbconvert_exporter": "python",
   "pygments_lexer": "ipython3",
   "version": "3.11.9"
  }
 },
 "nbformat": 4,
 "nbformat_minor": 2
}
