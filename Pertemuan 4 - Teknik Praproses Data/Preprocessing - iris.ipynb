{
 "cells": [
  {
   "cell_type": "markdown",
   "metadata": {},
   "source": [
    "## Visualisasi Data - Iris Dataset"
   ]
  },
  {
   "cell_type": "code",
   "execution_count": null,
   "metadata": {},
   "outputs": [],
   "source": [
    "# lib manipulasi data\n",
    "import pandas as pd\n",
    "import numpy as np\n",
    "\n",
    "# lib visualisasi data\n",
    "import seaborn as sns\n",
    "import matplotlib.pyplot as plt\n",
    "\n",
    "# lib preprocessing\n",
    "from sklearn.preprocessing import MinMaxScaler\n",
    "from sklearn.preprocessing import StandardScaler\n",
    "from sklearn.model_selection import train_test_split"
   ]
  },
  {
   "cell_type": "code",
   "execution_count": null,
   "metadata": {},
   "outputs": [],
   "source": [
    "# load dataset\n",
    "dataset = pd.read_csv(\"../dataset/dataset_iris.csv\")"
   ]
  },
  {
   "cell_type": "code",
   "execution_count": null,
   "metadata": {},
   "outputs": [],
   "source": [
    "# Set features and labels\n",
    "x = dataset[[\"sepal_length\",\"sepal_width\",\"petal_length\",\"petal_width\"]].values\n",
    "y = dataset[\"species\"].values"
   ]
  },
  {
   "cell_type": "markdown",
   "metadata": {},
   "source": [
    "### MinMax Scaler"
   ]
  },
  {
   "cell_type": "code",
   "execution_count": null,
   "metadata": {},
   "outputs": [],
   "source": [
    "# process normalization data\n",
    "scaler = MinMaxScaler(feature_range=(0,1))\n",
    "scaled = scaler.fit_transform(x)"
   ]
  },
  {
   "cell_type": "code",
   "execution_count": null,
   "metadata": {},
   "outputs": [],
   "source": [
    "# results normalization data\n",
    "minmax = pd.concat([\n",
    "  pd.DataFrame(scaled, columns=[\"sepal_length\",\"sepal_width\",\"petal_length\",\"petal_width\"]),\n",
    "  pd.DataFrame(y, columns=[\"species\"])\n",
    "],axis=1)"
   ]
  },
  {
   "cell_type": "code",
   "execution_count": null,
   "metadata": {},
   "outputs": [],
   "source": [
    "# results normalization data\n",
    "print(minmax.tail())"
   ]
  },
  {
   "cell_type": "markdown",
   "metadata": {},
   "source": [
    "### StandardScaler"
   ]
  },
  {
   "cell_type": "code",
   "execution_count": null,
   "metadata": {},
   "outputs": [],
   "source": [
    "# process normalization data\n",
    "scaled = StandardScaler().fit_transform(x)"
   ]
  },
  {
   "cell_type": "code",
   "execution_count": null,
   "metadata": {},
   "outputs": [],
   "source": [
    "# results normalization data\n",
    "standard = pd.concat([\n",
    "  pd.DataFrame(scaled, columns=[\"sepal_length\",\"sepal_width\",\"petal_length\",\"petal_width\"]),\n",
    "  pd.DataFrame(y, columns=[\"species\"])\n",
    "],axis=1)"
   ]
  },
  {
   "cell_type": "code",
   "execution_count": null,
   "metadata": {},
   "outputs": [],
   "source": [
    "# results normalization data\n",
    "print(standard.tail(3))"
   ]
  },
  {
   "cell_type": "markdown",
   "metadata": {},
   "source": [
    "### Visualization Data"
   ]
  },
  {
   "cell_type": "code",
   "execution_count": null,
   "metadata": {},
   "outputs": [],
   "source": [
    "# function boxplot\n",
    "def boxplot(dataset, title):\n",
    "\n",
    "  # create boxplot with seaborn\n",
    "  fig, ax = plt.subplots(figsize=(8,4))\n",
    "  sns.boxplot(data=dataset, x=\"species\", y=\"petal_length\", hue=\"species\")\n",
    "\n",
    "  # set labels\n",
    "  ax.set_title(title, fontsize=12)\n",
    "  ax.set_xlabel(\"\", fontsize=12)\n",
    "  ax.set_ylabel(\"\", fontsize=12)\n",
    "  ax.grid(True)\n",
    "\n",
    "  # return values\n",
    "  plt.tight_layout()\n",
    "  plt.show()"
   ]
  },
  {
   "cell_type": "code",
   "execution_count": null,
   "metadata": {},
   "outputs": [],
   "source": [
    "# call function boxplot\n",
    "boxplot(minmax, \"Boxplot with min-max scaler\")\n",
    "boxplot(standard, \"Boxplot with standard scaler\")"
   ]
  },
  {
   "cell_type": "code",
   "execution_count": null,
   "metadata": {},
   "outputs": [],
   "source": [
    "# function heatmap\n",
    "def heatmap(dataset, title):\n",
    "\n",
    "  # create heatmap with seaborn\n",
    "  fig, ax = plt.subplots(figsize=(8,4))\n",
    "  sns.heatmap(\n",
    "    data=dataset.corr(numeric_only=True), vmin=-1, vmax=1,\n",
    "    cmap=\"viridis\", annot=True, fmt=\".3f\", linewidths=1)\n",
    "  \n",
    "  # set labels\n",
    "  ax.set_title(title, fontsize=12)\n",
    "  # ax.set_xlabel(\"\", fontsize=12)\n",
    "  # ax.set_ylabel(\"\", fontsize=12)\n",
    "  ax.grid(False)\n",
    "\n",
    "  # show plot\n",
    "  plt.tight_layout()\n",
    "  plt.show()"
   ]
  },
  {
   "cell_type": "code",
   "execution_count": null,
   "metadata": {},
   "outputs": [],
   "source": [
    "# call function heatmap\n",
    "heatmap(minmax, \"Heatmap with min-max scaler\")\n",
    "heatmap(standard, \"Heatmap with standard scaler\")"
   ]
  },
  {
   "cell_type": "code",
   "execution_count": null,
   "metadata": {},
   "outputs": [],
   "source": [
    "# function scatter plot\n",
    "def scatter(data, x, y, title):\n",
    "  \n",
    "  # create scatter plots\n",
    "  fig, ax = plt.subplots(figsize = (8,4))\n",
    "  sns.scatterplot(data=data, x=x, y=y, hue=\"species\")\n",
    "\n",
    "  # set labels\n",
    "  ax.set_title(title, fontsize=12)\n",
    "  ax.set_xlabel(\"\", fontsize=12)\n",
    "  ax.set_ylabel(\"\", fontsize=12)\n",
    "  ax.grid(True)\n",
    "  \n",
    "  # return values\n",
    "  plt.tight_layout()\n",
    "  plt.show()\n"
   ]
  },
  {
   "cell_type": "code",
   "execution_count": null,
   "metadata": {},
   "outputs": [],
   "source": [
    "# call func scatterplot\n",
    "scatter(minmax, \"petal_length\", \"petal_width\", \"Heatmap with min-max scaler\")\n",
    "scatter(standard, \"petal_length\", \"petal_width\", \"Heatmap with standard scaler\")"
   ]
  },
  {
   "cell_type": "code",
   "execution_count": null,
   "metadata": {},
   "outputs": [],
   "source": []
  }
 ],
 "metadata": {
  "kernelspec": {
   "display_name": "base",
   "language": "python",
   "name": "python3"
  },
  "language_info": {
   "codemirror_mode": {
    "name": "ipython",
    "version": 3
   },
   "file_extension": ".py",
   "mimetype": "text/x-python",
   "name": "python",
   "nbconvert_exporter": "python",
   "pygments_lexer": "ipython3",
   "version": "3.11.9"
  }
 },
 "nbformat": 4,
 "nbformat_minor": 2
}
