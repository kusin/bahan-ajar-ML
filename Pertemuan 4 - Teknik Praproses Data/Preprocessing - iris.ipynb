{
 "cells": [
  {
   "cell_type": "markdown",
   "metadata": {},
   "source": [
    "## Visualisasi Data - Iris Dataset"
   ]
  },
  {
   "cell_type": "code",
   "execution_count": null,
   "metadata": {},
   "outputs": [],
   "source": [
    "# lib manipulasi data\n",
    "import pandas as pd\n",
    "import numpy as np\n",
    "\n",
    "# lib visualisasi data\n",
    "import seaborn as sns\n",
    "import matplotlib.pyplot as plt\n",
    "\n",
    "# lib preprocessing\n",
    "from sklearn.preprocessing import MinMaxScaler\n",
    "from sklearn.preprocessing import StandardScaler\n",
    "from sklearn.preprocessing import RobustScaler\n",
    "from sklearn.model_selection import train_test_split"
   ]
  },
  {
   "cell_type": "code",
   "execution_count": null,
   "metadata": {},
   "outputs": [],
   "source": [
    "# load dataset\n",
    "dataset = pd.read_csv(\"../dataset/dataset_iris.csv\")"
   ]
  },
  {
   "cell_type": "code",
   "execution_count": null,
   "metadata": {},
   "outputs": [],
   "source": [
    "def boxplot(dataset):\n",
    "\n",
    "  # define boxplot\n",
    "  fig, ax = plt.subplots(figsize=(8,4))\n",
    "  ax.boxplot(\n",
    "    x=dataset[[\"sepal_length\", \"sepal_width\", \"petal_length\", \"petal_width\"]],\n",
    "    labels=[\"sepal_length\", \"sepal_width\", \"petal_length\", \"petal_width\"],\n",
    "    patch_artist=True, widths=(0.75, 0.75, 0.75, 0.75)\n",
    "  )\n",
    "\n",
    "  # set labels\n",
    "  ax.set_title(\"\", fontsize=14)\n",
    "  ax.set_xlabel(\"\", fontsize=12)\n",
    "  ax.set_ylabel(\"\", fontsize=12)\n",
    "  ax.grid(True)\n",
    "\n",
    "  # show boxplot\n",
    "  plt.tight_layout()\n",
    "  plt.show()"
   ]
  },
  {
   "cell_type": "code",
   "execution_count": null,
   "metadata": {},
   "outputs": [],
   "source": [
    "def heatmap(dataset):\n",
    "  # create heatmap corr\n",
    "  fig, ax = plt.subplots(figsize=(8,4))\n",
    "  sns.heatmap(\n",
    "    dataset.corr(numeric_only=True), vmin=-1, vmax=1,\n",
    "    cmap=\"viridis\", annot=True, fmt=\".3f\", linewidths=1\n",
    "  )\n",
    "\n",
    "  # set labels\n",
    "  ax.set_title(\"\", fontsize=14)\n",
    "  ax.set_xlabel(\"\", fontsize=12)\n",
    "  ax.set_ylabel(\"\", fontsize=12)\n",
    "  ax.grid(False)\n",
    "\n",
    "  # show heatmap\n",
    "  plt.tight_layout()\n",
    "  plt.show()"
   ]
  },
  {
   "cell_type": "code",
   "execution_count": null,
   "metadata": {},
   "outputs": [],
   "source": [
    "# function scatter plot\n",
    "def scatter(data, x, y):\n",
    "  \n",
    "  # create scatter plots\n",
    "  fig, ax = plt.subplots(figsize = (8,4))\n",
    "  sns.scatterplot(data=data, x=x, y=y, hue=\"species\")\n",
    "  \n",
    "  # set labels\n",
    "  ax.set_title(\"\", fontsize=14)\n",
    "  ax.set_xlabel(\"\", fontsize=12)\n",
    "  ax.set_ylabel(\"\", fontsize=12)\n",
    "  ax.legend(loc='upper left')\n",
    "  ax.grid(True)\n",
    "  \n",
    "  # show scatterplot\n",
    "  plt.tight_layout()\n",
    "  plt.show()"
   ]
  },
  {
   "cell_type": "code",
   "execution_count": null,
   "metadata": {},
   "outputs": [],
   "source": [
    "# Set features and Labels\n",
    "x = dataset[[\"sepal_length\",\"sepal_width\",\"petal_length\",\"petal_width\"]].values\n",
    "y = dataset[\"species\"].values"
   ]
  },
  {
   "cell_type": "markdown",
   "metadata": {},
   "source": [
    "### MinMax Scaler"
   ]
  },
  {
   "cell_type": "code",
   "execution_count": null,
   "metadata": {},
   "outputs": [],
   "source": [
    "# process minmax scaler\n",
    "scaler = MinMaxScaler(feature_range=(0,1))\n",
    "scaled = scaler.fit_transform(x)"
   ]
  },
  {
   "cell_type": "code",
   "execution_count": null,
   "metadata": {},
   "outputs": [],
   "source": [
    "# results minmax scaler\n",
    "MinMax = pd.concat([\n",
    "  pd.DataFrame(scaled, columns=[\"sepal_length\",\"sepal_width\",\"petal_length\",\"petal_width\"]),\n",
    "  pd.DataFrame(y, columns=[\"species\"])\n",
    "],axis=1)"
   ]
  },
  {
   "cell_type": "code",
   "execution_count": null,
   "metadata": {},
   "outputs": [],
   "source": [
    "# results minmax scaler\n",
    "print(MinMax)"
   ]
  },
  {
   "cell_type": "code",
   "execution_count": null,
   "metadata": {},
   "outputs": [],
   "source": [
    "# results minmax with boxplot\n",
    "boxplot(MinMax)"
   ]
  },
  {
   "cell_type": "code",
   "execution_count": null,
   "metadata": {},
   "outputs": [],
   "source": [
    "# results minmax with heatmap\n",
    "heatmap(MinMax)"
   ]
  },
  {
   "cell_type": "code",
   "execution_count": null,
   "metadata": {},
   "outputs": [],
   "source": [
    "# results minmax with scatterplot\n",
    "scatter(MinMax, \"sepal_length\", \"sepal_width\")\n",
    "scatter(MinMax, \"petal_length\", \"petal_width\")"
   ]
  },
  {
   "cell_type": "markdown",
   "metadata": {},
   "source": [
    "### Standard Scaler"
   ]
  },
  {
   "cell_type": "code",
   "execution_count": null,
   "metadata": {},
   "outputs": [],
   "source": [
    "# process standard scaler\n",
    "scaled = StandardScaler().fit_transform(x)"
   ]
  },
  {
   "cell_type": "code",
   "execution_count": null,
   "metadata": {},
   "outputs": [],
   "source": [
    "# results standard scaler\n",
    "standard = pd.concat([\n",
    "  pd.DataFrame(scaled, columns=[\"sepal_length\",\"sepal_width\",\"petal_length\",\"petal_width\"]),\n",
    "  pd.DataFrame(y, columns=[\"species\"])\n",
    "],axis=1)"
   ]
  },
  {
   "cell_type": "code",
   "execution_count": null,
   "metadata": {},
   "outputs": [],
   "source": [
    "# results standard scaler\n",
    "print(standard)"
   ]
  },
  {
   "cell_type": "code",
   "execution_count": null,
   "metadata": {},
   "outputs": [],
   "source": [
    "# results minmax with boxplot\n",
    "boxplot(standard)"
   ]
  },
  {
   "cell_type": "code",
   "execution_count": null,
   "metadata": {},
   "outputs": [],
   "source": [
    "# results minmax with heatmap\n",
    "heatmap(standard)"
   ]
  },
  {
   "cell_type": "code",
   "execution_count": null,
   "metadata": {},
   "outputs": [],
   "source": [
    "# results minmax with scatterplot\n",
    "scatter(standard, \"sepal_length\", \"sepal_width\")\n",
    "scatter(standard, \"petal_length\", \"petal_width\")"
   ]
  },
  {
   "cell_type": "markdown",
   "metadata": {},
   "source": [
    "### RobustScaler"
   ]
  },
  {
   "cell_type": "code",
   "execution_count": null,
   "metadata": {},
   "outputs": [],
   "source": [
    "# process robust scaler\n",
    "scaled = RobustScaler().fit_transform(x)"
   ]
  },
  {
   "cell_type": "code",
   "execution_count": null,
   "metadata": {},
   "outputs": [],
   "source": [
    "# results robust scaler\n",
    "robust = pd.concat([\n",
    "  pd.DataFrame(scaled, columns=[\"sepal_length\",\"sepal_width\",\"petal_length\",\"petal_width\"]),\n",
    "  pd.DataFrame(y, columns=[\"species\"])\n",
    "],axis=1)"
   ]
  },
  {
   "cell_type": "code",
   "execution_count": null,
   "metadata": {},
   "outputs": [],
   "source": [
    "# results robust scaler\n",
    "print(robust)"
   ]
  },
  {
   "cell_type": "code",
   "execution_count": null,
   "metadata": {},
   "outputs": [],
   "source": [
    "# results robust with boxplot\n",
    "boxplot(robust)"
   ]
  },
  {
   "cell_type": "code",
   "execution_count": null,
   "metadata": {},
   "outputs": [],
   "source": [
    "# results robust with heatmap\n",
    "heatmap(robust)"
   ]
  },
  {
   "cell_type": "code",
   "execution_count": null,
   "metadata": {},
   "outputs": [],
   "source": [
    "# results robust with scatterplot\n",
    "scatter(robust, \"sepal_length\", \"sepal_width\")\n",
    "scatter(robust, \"petal_length\", \"petal_width\")"
   ]
  },
  {
   "cell_type": "markdown",
   "metadata": {},
   "source": [
    "### Splitting Data"
   ]
  },
  {
   "cell_type": "code",
   "execution_count": null,
   "metadata": {},
   "outputs": [],
   "source": [
    "# split validation\n",
    "trainX, testX, trainY, testY = train_test_split(\n",
    "  MinMax.iloc[:,0:4], MinMax.iloc[:,-1:], train_size=0.75, test_size=0.25, random_state=7, shuffle=True\n",
    ")"
   ]
  },
  {
   "cell_type": "code",
   "execution_count": null,
   "metadata": {},
   "outputs": [],
   "source": []
  },
  {
   "cell_type": "code",
   "execution_count": null,
   "metadata": {},
   "outputs": [],
   "source": []
  }
 ],
 "metadata": {
  "kernelspec": {
   "display_name": "base",
   "language": "python",
   "name": "python3"
  },
  "language_info": {
   "codemirror_mode": {
    "name": "ipython",
    "version": 3
   },
   "file_extension": ".py",
   "mimetype": "text/x-python",
   "name": "python",
   "nbconvert_exporter": "python",
   "pygments_lexer": "ipython3",
   "version": "3.11.9"
  }
 },
 "nbformat": 4,
 "nbformat_minor": 2
}
