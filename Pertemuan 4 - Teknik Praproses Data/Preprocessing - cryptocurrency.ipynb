{
 "cells": [
  {
   "cell_type": "markdown",
   "metadata": {},
   "source": [
    "## Visualisasi Data - Visualisasi Cryptocurrency dan Stock Price"
   ]
  },
  {
   "cell_type": "code",
   "execution_count": 1,
   "metadata": {},
   "outputs": [],
   "source": [
    "# lib manipulasi data\n",
    "import pandas as pd\n",
    "import numpy as np\n",
    " \n",
    "# lib visualisasi data\n",
    "import seaborn as sns\n",
    "import matplotlib.pyplot as plt\n",
    " \n",
    "# lib preprocessing\n",
    "from sklearn.preprocessing import MinMaxScaler\n",
    "from sklearn.preprocessing import StandardScaler\n",
    "from sklearn.model_selection import train_test_split"
   ]
  },
  {
   "cell_type": "code",
   "execution_count": 2,
   "metadata": {},
   "outputs": [],
   "source": [
    "# func load dataset\n",
    "def load_dataset(df):\n",
    " \n",
    "  # load dataset\n",
    "  dataset = pd.read_csv(\"../dataset/\"+df, parse_dates=['Date'])\n",
    " \n",
    "  # set feature\n",
    "  dataset = dataset[[\"Date\", \"Open\", \"High\", \"Low\", \"Close\"]]\n",
    "  \n",
    "  # set index\n",
    "  dataset = dataset.set_index(\"Date\")\n",
    " \n",
    "  # return values\n",
    "  return dataset"
   ]
  },
  {
   "cell_type": "code",
   "execution_count": 3,
   "metadata": {},
   "outputs": [],
   "source": [
    "# set name dataset and path\n",
    "dataset = [\"df_btc\", \"df_eth\", \"df_aapl\", \"df_ibm\"]\n",
    "path    = [\"Cryptocurrency-BTC-USD-2024-05.csv\", \"Cryptocurrency-ETH-USD-2024-05.csv\", \n",
    "           \"Stock-Price-AAPL-2024-05.csv\", \"Stock-Price-IBM-2024-05.csv\"]\n",
    "\n",
    "# load dataset\n",
    "for i in range (4):\n",
    "  dataset[i] = load_dataset(path[i])"
   ]
  },
  {
   "cell_type": "code",
   "execution_count": 4,
   "metadata": {},
   "outputs": [],
   "source": [
    "# func visualization of time series plot\n",
    "def timeseries_plot(date, data, title):\n",
    "  \n",
    "  # create frame\n",
    "  fig, ax = plt.subplots(figsize = (8,4))\n",
    "\n",
    "  # time series plot\n",
    "  ax.plot(date, data[:,0:1], color=\"tab:green\", label=\"Open Price\", linewidth=2)\n",
    "  ax.plot(date, data[:,1:2], color=\"tab:orange\", label=\"High Price\", linewidth=2)\n",
    "  ax.plot(date, data[:,2:3], color=\"tab:red\", label=\"Low Price\", linewidth=2)\n",
    "  ax.plot(date, data[:,3:4], color=\"tab:blue\", label=\"Close Price\", linewidth=2)\n",
    "\n",
    "  # set label-labels\n",
    "  ax.set_title(title,fontsize=14)\n",
    "  ax.set_xlabel(\"\",fontsize=12)\n",
    "  ax.set_ylabel(\"\",fontsize=12)\n",
    "  ax.legend(loc=\"best\")\n",
    "  ax.grid(True)\n",
    "\n",
    "  # return values\n",
    "  return plt.show()"
   ]
  },
  {
   "cell_type": "code",
   "execution_count": 5,
   "metadata": {},
   "outputs": [],
   "source": [
    "# # normalize features\n",
    "# scaler = MinMaxScaler(feature_range=(0, 1))\n",
    "# scaled_data = scaler.fit_transform(np.array(df_btc))"
   ]
  },
  {
   "cell_type": "code",
   "execution_count": 6,
   "metadata": {},
   "outputs": [],
   "source": [
    "# dataset = [\"df_btc\", \"df_eth\", \"df_aapl\", \"df_ibm\"]\n",
    "# for i in range(4):\n",
    "#   dataset[i] = 2+i"
   ]
  },
  {
   "cell_type": "code",
   "execution_count": null,
   "metadata": {},
   "outputs": [],
   "source": []
  }
 ],
 "metadata": {
  "kernelspec": {
   "display_name": "base",
   "language": "python",
   "name": "python3"
  },
  "language_info": {
   "codemirror_mode": {
    "name": "ipython",
    "version": 3
   },
   "file_extension": ".py",
   "mimetype": "text/x-python",
   "name": "python",
   "nbconvert_exporter": "python",
   "pygments_lexer": "ipython3",
   "version": "3.11.9"
  }
 },
 "nbformat": 4,
 "nbformat_minor": 2
}
