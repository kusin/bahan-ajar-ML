{
 "cells": [
  {
   "cell_type": "markdown",
   "metadata": {},
   "source": [
    "## Data Visualiazation of Supply Sales with Streamlit Framework"
   ]
  },
  {
   "cell_type": "code",
   "execution_count": 1,
   "metadata": {},
   "outputs": [],
   "source": [
    "# library data-visualization\n",
    "import numpy as np\n",
    "import pandas as pd\n",
    "pd.set_option('display.width', 1000)\n",
    "pd.set_option('display.max_columns', 1000)\n",
    "\n",
    "# library manipulation data\n",
    "import seaborn as sns\n",
    "import matplotlib.pyplot as plt"
   ]
  },
  {
   "cell_type": "code",
   "execution_count": 2,
   "metadata": {},
   "outputs": [
    {
     "name": "stdout",
     "output_type": "stream",
     "text": [
      "<class 'pandas.core.frame.DataFrame'>\n",
      "RangeIndex: 8092 entries, 0 to 8091\n",
      "Data columns (total 10 columns):\n",
      " #   Column        Non-Null Count  Dtype         \n",
      "---  ------        --------------  -----         \n",
      " 0   Ship Date     8092 non-null   datetime64[ns]\n",
      " 1   Month         8092 non-null   object        \n",
      " 2   Year          8092 non-null   int64         \n",
      " 3   Ship Mode     8092 non-null   object        \n",
      " 4   Area          8092 non-null   object        \n",
      " 5   Region        8092 non-null   object        \n",
      " 6   Category      8092 non-null   object        \n",
      " 7   Sub-Category  8092 non-null   object        \n",
      " 8   Sold          8092 non-null   int64         \n",
      " 9   Profit        8092 non-null   int64         \n",
      "dtypes: datetime64[ns](1), int64(3), object(6)\n",
      "memory usage: 632.3+ KB\n"
     ]
    }
   ],
   "source": [
    "# load-dataset\n",
    "dataset = pd.read_csv(\"dataset/dataset-supply.csv\", parse_dates=[\"Ship Date\"])\n",
    "dataset.info()"
   ]
  },
  {
   "cell_type": "code",
   "execution_count": 3,
   "metadata": {},
   "outputs": [
    {
     "name": "stdout",
     "output_type": "stream",
     "text": [
      "      Ship Date     Month  Year       Ship Mode        Area Region         Category Sub-Category  Sold   Profit\n",
      "0    2016-11-11  November  2016    Second Class        Jawa  South        Furniture    Bookcases   270   503000\n",
      "1    2016-11-11  November  2016    Second Class     Sumatra  South        Furniture       Chairs   740  2635000\n",
      "2    2016-06-16      Juni  2016    Second Class        Bali   West  Office Supplies       Labels    20    82500\n",
      "3    2015-10-18   Oktober  2015  Standard Class       Papua  South  Office Supplies      Storage    30    30200\n",
      "4    2014-06-14      Juni  2014  Standard Class    Sulawesi   West        Furniture  Furnishings    50   170100\n",
      "...         ...       ...   ...             ...         ...    ...              ...          ...   ...      ...\n",
      "8087 2014-01-23   Januari  2014    Second Class    Sulawesi  South        Furniture  Furnishings    30    49300\n",
      "8088 2017-03-03     Maret  2017  Standard Class  Kalimantan   West        Furniture  Furnishings   100   187600\n",
      "8089 2017-03-03     Maret  2017  Standard Class        Jawa   West       Technology       Phones   260   232800\n",
      "8090 2017-03-03     Maret  2017  Standard Class     Sumatra   West  Office Supplies        Paper    30   159900\n",
      "8091 2017-05-09       Mei  2017    Second Class        Bali   West  Office Supplies   Appliances   250   875400\n",
      "\n",
      "[8092 rows x 10 columns]\n"
     ]
    }
   ],
   "source": [
    "print(dataset)"
   ]
  },
  {
   "cell_type": "code",
   "execution_count": 4,
   "metadata": {},
   "outputs": [
    {
     "name": "stdout",
     "output_type": "stream",
     "text": [
      "Min Date : 2014-01-07 00:00:00\n",
      "Max Date : 2017-12-31 00:00:00\n"
     ]
    }
   ],
   "source": [
    "# Show min-max datetime\n",
    "print(\"Min Date : \"+str(dataset[\"Ship Date\"].min()))\n",
    "print(\"Max Date : \"+str(dataset[\"Ship Date\"].max()))"
   ]
  },
  {
   "cell_type": "code",
   "execution_count": 5,
   "metadata": {},
   "outputs": [
    {
     "data": {
      "text/plain": [
       "array([2014, 2015, 2016, 2017], dtype=int64)"
      ]
     },
     "execution_count": 5,
     "metadata": {},
     "output_type": "execute_result"
    }
   ],
   "source": [
    "# show unique values years\n",
    "dataset[\"Year\"].sort_values().unique()"
   ]
  },
  {
   "cell_type": "code",
   "execution_count": null,
   "metadata": {},
   "outputs": [],
   "source": []
  },
  {
   "cell_type": "code",
   "execution_count": null,
   "metadata": {},
   "outputs": [],
   "source": []
  }
 ],
 "metadata": {
  "kernelspec": {
   "display_name": "base",
   "language": "python",
   "name": "python3"
  },
  "language_info": {
   "codemirror_mode": {
    "name": "ipython",
    "version": 3
   },
   "file_extension": ".py",
   "mimetype": "text/x-python",
   "name": "python",
   "nbconvert_exporter": "python",
   "pygments_lexer": "ipython3",
   "version": "3.11.7"
  }
 },
 "nbformat": 4,
 "nbformat_minor": 2
}
